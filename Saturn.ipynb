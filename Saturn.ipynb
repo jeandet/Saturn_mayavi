{
 "cells": [
  {
   "cell_type": "code",
   "execution_count": 2,
   "metadata": {
    "collapsed": true
   },
   "outputs": [],
   "source": [
    "# Create the data.\n",
    "import numpy as np\n",
    "import mayavi.mlab as mlab\n",
    "import vtk\n",
    "import wget"
   ]
  },
  {
   "cell_type": "code",
   "execution_count": 3,
   "metadata": {
    "collapsed": true
   },
   "outputs": [],
   "source": [
    "def make_sphere(radius,N,x_shift=0.,y_shift=0.,z_shift=0.):\n",
    "    u = np.linspace(0, 2 * np.pi, N)\n",
    "    v = np.linspace(0, np.pi, N)\n",
    "    x = radius * np.outer(np.cos(u), np.sin(v))\n",
    "    y = radius * np.outer(np.sin(u), np.sin(v))\n",
    "    z = radius * np.outer(np.ones(np.size(u)), np.cos(v))\n",
    "    return x+x_shift,y+y_shift,z+z_shift\n",
    "\n",
    "def make_ring(inner_radius,outer_radius,N,x_shift=0.,y_shift=0.,z_shift=0.):\n",
    "    theta=np.linspace(0.,np.pi*2,N)\n",
    "    x= [ x_shift + outer_radius*np.cos(theta) , x_shift + inner_radius*np.cos(theta)]     \n",
    "    y= [ y_shift + outer_radius*np.sin(theta) , y_shift + inner_radius*np.sin(theta) ]\n",
    "    z= [ [z_shift]*len(theta),[z_shift]*len(theta)]\n",
    "    return x,y,z"
   ]
  },
  {
   "cell_type": "code",
   "execution_count": 8,
   "metadata": {},
   "outputs": [],
   "source": [
    "\"\"\"\n",
    " Let's get saturne texture from the web.\n",
    "\"\"\"\n",
    "image_file = \"./2k_saturn.jpg\"\n",
    "try:\n",
    "    open(\"./2k_saturn.jpg\")\n",
    "except:\n",
    "    wget.download(\"http://www.solarsystemscope.com/textures/2k_saturn.jpg\")\n",
    "\"\"\"\n",
    "    Texture loading with VTK\n",
    "\"\"\"\n",
    "textureReader = vtk.vtkJPEGReader()\n",
    "textureReader.SetFileName(image_file)\n",
    "texture = vtk.vtkTexture()\n",
    "texture.SetInputConnection(textureReader.GetOutputPort())\n",
    "\n",
    "figure = mlab.figure('Saturn',size=[2000,2000])\n",
    "\n",
    "\"\"\"\n",
    "    Saturn building as simple sphere with N*N points\n",
    "\"\"\"\n",
    "x,y,z=make_sphere(1.,100)\n",
    "\n",
    "\"\"\"\n",
    "    Let's mesh and show this sphere\n",
    "\"\"\"\n",
    "mesh = mlab.mesh(x, y, z,name=\"Saturn\")\n",
    "\n",
    "mesh.actor.actor.mapper.scalar_visibility=False\n",
    "mesh.actor.enable_texture = True\n",
    "mesh.actor.tcoord_generator_mode = 'plane'\n",
    "mesh.actor.actor.texture = texture\n",
    "mesh.actor.actor.rotate_y(-90)\n",
    "ax=mlab.axes(figure=figure,nb_labels=11, extent=[-2.,2.,-2.,2.,-2.,2.])\n",
    "ax.axes.font_factor=.5\n",
    "\n",
    "\n",
    "Radius=60268. #Km\n",
    "\n",
    "dx = [66900./Radius,74510./Radius]\n",
    "cx=[74658./Radius, 92000./Radius]\n",
    "bx=[92000./Radius, 117580./Radius]\n",
    "ax= [122170./Radius,136775./Radius]\n",
    "\n",
    "\n",
    "for disc,coef in [(dx,0.9),(cx,1.),(bx,1.1),(ax,1.2)]:\n",
    "    x,y,z=make_ring(disc[0],disc[1],100)\n",
    "    mlab.mesh(x, y, z,color=(0.6*coef,0.6*coef,0.6*coef),name=\"ring\")\n",
    "\n",
    "mlab.savefig(\"out.png\")\n",
    "mlab.show()"
   ]
  },
  {
   "cell_type": "markdown",
   "metadata": {},
   "source": [
    "<img src=\"out.png\">"
   ]
  }
 ],
 "metadata": {
  "kernelspec": {
   "display_name": "Python 2",
   "language": "python",
   "name": "python2"
  },
  "language_info": {
   "codemirror_mode": {
    "name": "ipython",
    "version": 2
   },
   "file_extension": ".py",
   "mimetype": "text/x-python",
   "name": "python",
   "nbconvert_exporter": "python",
   "pygments_lexer": "ipython2",
   "version": "2.7.13"
  }
 },
 "nbformat": 4,
 "nbformat_minor": 2
}
